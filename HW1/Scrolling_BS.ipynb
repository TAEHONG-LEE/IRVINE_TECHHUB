{
 "cells": [
  {
   "cell_type": "code",
   "execution_count": 47,
   "metadata": {},
   "outputs": [
    {
     "name": "stdout",
     "output_type": "stream",
     "text": [
      "[<div class=\"rank_list\">\n",
      "<ul>\n",
      "<li><span class=\"country\">일본</span>\n",
      "<div class=\"gauge\">\n",
      "<span class=\"gaugeBg\"></span> <span class=\"line\" style=\"width: 54%\"></span>\n",
      "</div> <span class=\"count\">54</span></li>\n",
      "<li><span class=\"country\">독일</span>\n",
      "<div class=\"gauge\">\n",
      "<span class=\"gaugeBg\"></span> <span class=\"line\" style=\"width: 48%\"></span>\n",
      "</div> <span class=\"count\">48</span></li>\n",
      "<li><span class=\"country\">이탈리아</span>\n",
      "<div class=\"gauge\">\n",
      "<span class=\"gaugeBg\"></span> <span class=\"line\" style=\"width: 45%\"></span>\n",
      "</div> <span class=\"count\">45</span></li>\n",
      "<li><span class=\"country\">핀란드</span>\n",
      "<div class=\"gauge\">\n",
      "<span class=\"gaugeBg\"></span> <span class=\"line\" style=\"width: 43%\"></span>\n",
      "</div> <span class=\"count\">43</span></li>\n",
      "<li><span class=\"country\">네덜란드</span>\n",
      "<div class=\"gauge\">\n",
      "<span class=\"gaugeBg\"></span> <span class=\"line\" style=\"width: 41%\"></span>\n",
      "</div> <span class=\"count\">41</span></li>\n",
      "<li class=\"korea\"><span class=\"country\">한국</span>\n",
      "<div class=\"gauge\">\n",
      "<span class=\"gaugeBg\"></span> <span class=\"line\" style=\"width: 39%\"></span>\n",
      "</div> <span class=\"count\">39</span></li>\n",
      "<li class=\"countrySelect02\"><span class=\"country\">프랑스</span>\n",
      "<div class=\"gauge\">\n",
      "<span class=\"gaugeBg\"></span> <span class=\"line\" style=\"width: 39%\"></span>\n",
      "</div> <span class=\"count\">39</span></li>\n",
      "<li class=\"countrySelect03\"><span class=\"country\">캐나다</span>\n",
      "<div class=\"gauge\">\n",
      "<span class=\"gaugeBg\"></span> <span class=\"line\" style=\"width: 37%\"></span>\n",
      "</div> <span class=\"count\">37</span></li>\n",
      "<li class=\"countrySelect04\"><span class=\"country\">영국</span>\n",
      "<div class=\"gauge\">\n",
      "<span class=\"gaugeBg\"></span> <span class=\"line\" style=\"width: 36%\"></span>\n",
      "</div> <span class=\"count\">36</span></li>\n",
      "<li class=\"countrySelect05\"><span class=\"country\">미국</span>\n",
      "<div class=\"gauge\">\n",
      "<span class=\"gaugeBg\"></span> <span class=\"line\" style=\"width: 33%\"></span>\n",
      "</div> <span class=\"count\">33</span></li>\n",
      "<li class=\"countrySelect01\"><span class=\"country\">오스트레일리아</span>\n",
      "<div class=\"gauge\">\n",
      "<span class=\"gaugeBg\"></span> <span class=\"line\" style=\"width: 31%\"></span>\n",
      "</div> <span class=\"count\">31</span></li>\n",
      "<li><span class=\"country\">러시아</span>\n",
      "<div class=\"gauge\">\n",
      "<span class=\"gaugeBg\"></span> <span class=\"line\" style=\"width: 28%\"></span>\n",
      "</div> <span class=\"count\">28</span></li>\n",
      "<li><span class=\"country\">중국</span>\n",
      "<div class=\"gauge\">\n",
      "<span class=\"gaugeBg\"></span> <span class=\"line\" style=\"width: 24%\"></span>\n",
      "</div> <span class=\"count\">24</span></li>\n",
      "<li><span class=\"country\">아르헨티나</span>\n",
      "<div class=\"gauge\">\n",
      "<span class=\"gaugeBg\"></span> <span class=\"line\" style=\"width: 21%\"></span>\n",
      "</div> <span class=\"count\">21</span></li>\n",
      "<li><span class=\"country\">브라질</span>\n",
      "<div class=\"gauge\">\n",
      "<span class=\"gaugeBg\"></span> <span class=\"line\" style=\"width: 20%\"></span>\n",
      "</div> <span class=\"count\">20</span></li>\n",
      "<li><span class=\"country\">튀르키예</span>\n",
      "<div class=\"gauge\">\n",
      "<span class=\"gaugeBg\"></span> <span class=\"line\" style=\"width: 18%\"></span>\n",
      "</div> <span class=\"count\">18</span></li>\n",
      "<li><span class=\"country\">멕시코</span>\n",
      "<div class=\"gauge\">\n",
      "<span class=\"gaugeBg\"></span> <span class=\"line\" style=\"width: 17%\"></span>\n",
      "</div> <span class=\"count\">17</span></li>\n",
      "<li><span class=\"country\">인도네시아</span>\n",
      "<div class=\"gauge\">\n",
      "<span class=\"gaugeBg\"></span> <span class=\"line\" style=\"width: 13%\"></span>\n",
      "</div> <span class=\"count\">13</span></li>\n",
      "<li><span class=\"country\">인도</span>\n",
      "<div class=\"gauge\">\n",
      "<span class=\"gaugeBg\"></span> <span class=\"line\" style=\"width: 12%\"></span>\n",
      "</div> <span class=\"count\">12</span></li>\n",
      "<li><span class=\"country\">남아프리카공화국</span>\n",
      "<div class=\"gauge\">\n",
      "<span class=\"gaugeBg\"></span> <span class=\"line\" style=\"width: 11%\"></span>\n",
      "</div> <span class=\"count\">11</span></li>\n",
      "</ul>\n",
      "</div>]\n"
     ]
    }
   ],
   "source": [
    "import requests\n",
    "from bs4 import BeautifulSoup\n",
    "\n",
    "url = 'https://kosis.kr/vis_eng/nso/worldInEng/selectWorldInEng.do'\n",
    "\n",
    "response = requests.get(url)\n",
    "\n",
    "soup = BeautifulSoup(response.text, 'html.parser')\n",
    "\n",
    "# HTML 요소를 선택하여 데이터를 추출합니다\n",
    "# 예: soup.find_all('태그명', class_='클래스명')\n",
    "\n",
    "# data = soup.find_all('span', class_='count')\n",
    "# country_list = soup.find_all('span', class_=\"country\")\n",
    "\n",
    "# rank_list도 하나의 soup 객체로 이용할 수 있다. (ex rank_list.a라고 하면 rank_list의 a태그를 가져온다.)\n",
    "rank_list = soup.find_all('div', class_='rank_list')\n",
    "\n",
    "countries = rank_list[0].find_all('span', class_='country')\n",
    "counts = rank_list[0].find_all('span', class_='count')\n",
    "\n",
    "# print(rank_list)\n",
    "# for country in countries:\n",
    "#     print(country.get_text())\n",
    "print(rank_list)"
   ]
  },
  {
   "cell_type": "code",
   "execution_count": 15,
   "metadata": {},
   "outputs": [
    {
     "ename": "TypeError",
     "evalue": "list indices must be integers or slices, not str",
     "output_type": "error",
     "traceback": [
      "\u001b[1;31m---------------------------------------------------------------------------\u001b[0m",
      "\u001b[1;31mTypeError\u001b[0m                                 Traceback (most recent call last)",
      "Cell \u001b[1;32mIn[15], line 1\u001b[0m\n\u001b[1;32m----> 1\u001b[0m \u001b[38;5;28mprint\u001b[39m(\u001b[43mdata\u001b[49m\u001b[43m[\u001b[49m\u001b[38;5;124;43m\"\u001b[39;49m\u001b[38;5;124;43mhref\u001b[39;49m\u001b[38;5;124;43m\"\u001b[39;49m\u001b[43m]\u001b[49m)\n",
      "\u001b[1;31mTypeError\u001b[0m: list indices must be integers or slices, not str"
     ]
    }
   ],
   "source": [
    "countries = "
   ]
  },
  {
   "cell_type": "code",
   "execution_count": 7,
   "metadata": {},
   "outputs": [],
   "source": [
    "for country in countries:\n",
    "    print(country.get_text())"
   ]
  },
  {
   "cell_type": "code",
   "execution_count": 8,
   "metadata": {},
   "outputs": [],
   "source": [
    "countries_data = soup.find_all('li', class_='countrySelect01')\n",
    "\n",
    "# 결과를 저장할 딕셔너리\n",
    "country_info = {}\n",
    "\n",
    "# 국가명과 숫자 데이터를 추출합니다\n",
    "for country in countries_data:\n",
    "    # 국가명을 추출합니다.\n",
    "    country_name = country.get('title')\n",
    "\n",
    "# 국가에 해당하는 숫자 데이터를 추출합니다.\n",
    "# 숫자 데이터가 \"span\" 태그의 \"count\" 클래스에 있다고 가정할 때,\n",
    "# 국가 이름 바로 다음에 오는 span 태그에서 숫자 데이터를 찾을 수 있습니다.\n",
    "country_data = country.find('span', class_='count')\n",
    "\n",
    "# 숫자 데이터가 없는 경우를 처리합니다.\n",
    "if country_data:\n",
    "    country_number = country_data.get_text().strip()\n",
    "else:\n",
    "    country_number = None\n",
    "\n",
    "# 추출된 정보를 딕셔너리에 저장합니다.\n",
    "country_info[country_name] = country_number\n"
   ]
  },
  {
   "cell_type": "code",
   "execution_count": 9,
   "metadata": {},
   "outputs": [
    {
     "name": "stdout",
     "output_type": "stream",
     "text": [
      "None: 31\n"
     ]
    }
   ],
   "source": [
    "for country, number in country_info.items():\n",
    "    print(f\"{country}: {number}\")"
   ]
  },
  {
   "cell_type": "code",
   "execution_count": null,
   "metadata": {},
   "outputs": [],
   "source": []
  }
 ],
 "metadata": {
  "kernelspec": {
   "display_name": "Python 3",
   "language": "python",
   "name": "python3"
  },
  "language_info": {
   "codemirror_mode": {
    "name": "ipython",
    "version": 3
   },
   "file_extension": ".py",
   "mimetype": "text/x-python",
   "name": "python",
   "nbconvert_exporter": "python",
   "pygments_lexer": "ipython3",
   "version": "3.12.1"
  }
 },
 "nbformat": 4,
 "nbformat_minor": 2
}
